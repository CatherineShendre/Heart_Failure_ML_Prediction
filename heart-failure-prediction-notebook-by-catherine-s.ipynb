{
 "cells": [
  {
   "cell_type": "markdown",
   "id": "e3767ea3",
   "metadata": {
    "papermill": {
     "duration": 0.017982,
     "end_time": "2023-03-12T16:53:09.777936",
     "exception": false,
     "start_time": "2023-03-12T16:53:09.759954",
     "status": "completed"
    },
    "tags": []
   },
   "source": [
    "<img src=\"https://media.giphy.com/avatars/saveaheart/yw5TEQLOFkP1.gif\" width=35%>"
   ]
  },
  {
   "cell_type": "markdown",
   "id": "49443742",
   "metadata": {
    "papermill": {
     "duration": 0.012356,
     "end_time": "2023-03-12T16:53:09.803701",
     "exception": false,
     "start_time": "2023-03-12T16:53:09.791345",
     "status": "completed"
    },
    "tags": []
   },
   "source": [
    "\n",
    "<h1 style=\"padding:8px;background-color:#DC143C;margin:0;color:white;font-family:Century Gothic;font-size:200%;text-align:center;border-radius: 15px 15px;letter-spacing:0.5px;overflow:hidden;font-weight:500\">INFORMATION</h1>"
   ]
  },
  {
   "cell_type": "markdown",
   "id": "e59507f2",
   "metadata": {
    "papermill": {
     "duration": 0.01258,
     "end_time": "2023-03-12T16:53:09.830938",
     "exception": false,
     "start_time": "2023-03-12T16:53:09.818358",
     "status": "completed"
    },
    "tags": []
   },
   "source": [
    "* **This Dataset contains the information about the patients like age ,sex , blood pressure, smoke, diabetes,ejection fraction, creatinine phosphokinase, serum_creatinine, serum_sodium, time and we have to predict their DEATH EVENT. There are some factors that affects Death Event, This notebook attempts to perform Exploratory Data Analysis and eventually train a Machine Learning model on it for better understanding of the data.**\n",
    "* **Analysis shows the significance of heart health and the major causes of heart failure.**"
   ]
  },
  {
   "cell_type": "markdown",
   "id": "44e4b7a8",
   "metadata": {
    "papermill": {
     "duration": 0.012999,
     "end_time": "2023-03-12T16:53:09.857675",
     "exception": false,
     "start_time": "2023-03-12T16:53:09.844676",
     "status": "completed"
    },
    "tags": []
   },
   "source": [
    "### Questions to be answered.\n",
    "\n",
    "* Does Smoking affect on heart disease?\n",
    "* Does a person's age affect their risk of heart attack?\n",
    "* Does having high blood pressure put you at risk for a heart attack?\n",
    "* Does the level of serum creatinine and serum sodium in the blood eventually operate as a risk factor for heart attacks?"
   ]
  },
  {
   "cell_type": "markdown",
   "id": "4a364e15",
   "metadata": {
    "papermill": {
     "duration": 0.012326,
     "end_time": "2023-03-12T16:53:09.883737",
     "exception": false,
     "start_time": "2023-03-12T16:53:09.871411",
     "status": "completed"
    },
    "tags": []
   },
   "source": [
    "### Maching Learning Model used.\n",
    "\n",
    "1. Logistic Regression\n",
    "2. Decision Tree\n",
    "3. Random Forest"
   ]
  },
  {
   "cell_type": "markdown",
   "id": "b0da5077",
   "metadata": {
    "papermill": {
     "duration": 0.012365,
     "end_time": "2023-03-12T16:53:09.909315",
     "exception": false,
     "start_time": "2023-03-12T16:53:09.896950",
     "status": "completed"
    },
    "tags": []
   },
   "source": [
    "**Table of contents:**\n",
    "    \n",
    "1. [IMPORTING LIBRARIES](#1)\n",
    "2. [DATA PREPROCESSING](#2)\n",
    "3. [CHECKING MISSING VALUE](#3)\n",
    "3. [EXPLORATORY DATA ANALYSIS (EDA)](#4)\n",
    "4. [DATA VISUALIZATION & TRANSFORMATION](#5)\n",
    "5. [SPLITING THE DATA INTO TRAINING SET & TEST SET](#6)\n",
    "6. [FEATURE SELECTION](#7)\n",
    "7. [APPLY MACHINE-LEARNING MODEL](#8) \n"
   ]
  },
  {
   "cell_type": "markdown",
   "id": "ba0133f1",
   "metadata": {
    "papermill": {
     "duration": 0.012418,
     "end_time": "2023-03-12T16:53:09.934461",
     "exception": false,
     "start_time": "2023-03-12T16:53:09.922043",
     "status": "completed"
    },
    "tags": []
   },
   "source": [
    "\n",
    "<h1 style=\"padding:8px;background-color:#DC143C;margin:0;color:white;font-family:Century Gothic;font-size:200%;text-align:center;border-radius: 15px 15px;letter-spacing:0.5px;overflow:hidden;font-weight:500\">IMPORTING LIBRARIES</h1> <a class=\"anchor\" id=\"1\"></a>"
   ]
  },
  {
   "cell_type": "code",
   "execution_count": 1,
   "id": "aca65f73",
   "metadata": {
    "execution": {
     "iopub.execute_input": "2023-03-12T16:53:09.963480Z",
     "iopub.status.busy": "2023-03-12T16:53:09.962387Z",
     "iopub.status.idle": "2023-03-12T16:53:12.740533Z",
     "shell.execute_reply": "2023-03-12T16:53:12.739422Z"
    },
    "papermill": {
     "duration": 2.795973,
     "end_time": "2023-03-12T16:53:12.743506",
     "exception": false,
     "start_time": "2023-03-12T16:53:09.947533",
     "status": "completed"
    },
    "tags": []
   },
   "outputs": [],
   "source": [
    "\n",
    "import numpy as np # linear algebra\n",
    "import pandas as pd # data processing, \n",
    "from sklearn.tree import DecisionTreeClassifier \n",
    "from sklearn.ensemble import RandomForestClassifier\n",
    "from sklearn.linear_model import LogisticRegression\n",
    "import matplotlib.pyplot as plt\n",
    "import seaborn as sns\n",
    "import plotly.express as px\n",
    "import plotly.graph_objects as go"
   ]
  },
  {
   "cell_type": "markdown",
   "id": "9f9872df",
   "metadata": {
    "papermill": {
     "duration": 0.012177,
     "end_time": "2023-03-12T16:53:12.768584",
     "exception": false,
     "start_time": "2023-03-12T16:53:12.756407",
     "status": "completed"
    },
    "tags": []
   },
   "source": [
    "<h1 style=\"padding:8px;background-color:#DC143C;margin:0;color:white;font-family:Century Gothic;font-size:200%;text-align:center;border-radius: 15px 15px;letter-spacing:0.5px;overflow:hidden;font-weight:500\">DATA PREPROCESSING</h1> <a class=\"anchor\" id=\"2\"></a> "
   ]
  },
  {
   "cell_type": "code",
   "execution_count": 2,
   "id": "87054338",
   "metadata": {
    "execution": {
     "iopub.execute_input": "2023-03-12T16:53:12.795529Z",
     "iopub.status.busy": "2023-03-12T16:53:12.795064Z",
     "iopub.status.idle": "2023-03-12T16:53:12.836119Z",
     "shell.execute_reply": "2023-03-12T16:53:12.834892Z"
    },
    "papermill": {
     "duration": 0.057838,
     "end_time": "2023-03-12T16:53:12.839009",
     "exception": false,
     "start_time": "2023-03-12T16:53:12.781171",
     "status": "completed"
    },
    "tags": []
   },
   "outputs": [
    {
     "data": {
      "text/html": [
       "<div>\n",
       "<style scoped>\n",
       "    .dataframe tbody tr th:only-of-type {\n",
       "        vertical-align: middle;\n",
       "    }\n",
       "\n",
       "    .dataframe tbody tr th {\n",
       "        vertical-align: top;\n",
       "    }\n",
       "\n",
       "    .dataframe thead th {\n",
       "        text-align: right;\n",
       "    }\n",
       "</style>\n",
       "<table border=\"1\" class=\"dataframe\">\n",
       "  <thead>\n",
       "    <tr style=\"text-align: right;\">\n",
       "      <th></th>\n",
       "      <th>age</th>\n",
       "      <th>anaemia</th>\n",
       "      <th>creatinine_phosphokinase</th>\n",
       "      <th>diabetes</th>\n",
       "      <th>ejection_fraction</th>\n",
       "      <th>high_blood_pressure</th>\n",
       "      <th>platelets</th>\n",
       "      <th>serum_creatinine</th>\n",
       "      <th>serum_sodium</th>\n",
       "      <th>sex</th>\n",
       "      <th>smoking</th>\n",
       "      <th>time</th>\n",
       "      <th>DEATH_EVENT</th>\n",
       "    </tr>\n",
       "  </thead>\n",
       "  <tbody>\n",
       "    <tr>\n",
       "      <th>0</th>\n",
       "      <td>75.0</td>\n",
       "      <td>0</td>\n",
       "      <td>582</td>\n",
       "      <td>0</td>\n",
       "      <td>20</td>\n",
       "      <td>1</td>\n",
       "      <td>265000.00</td>\n",
       "      <td>1.9</td>\n",
       "      <td>130</td>\n",
       "      <td>1</td>\n",
       "      <td>0</td>\n",
       "      <td>4</td>\n",
       "      <td>1</td>\n",
       "    </tr>\n",
       "    <tr>\n",
       "      <th>1</th>\n",
       "      <td>55.0</td>\n",
       "      <td>0</td>\n",
       "      <td>7861</td>\n",
       "      <td>0</td>\n",
       "      <td>38</td>\n",
       "      <td>0</td>\n",
       "      <td>263358.03</td>\n",
       "      <td>1.1</td>\n",
       "      <td>136</td>\n",
       "      <td>1</td>\n",
       "      <td>0</td>\n",
       "      <td>6</td>\n",
       "      <td>1</td>\n",
       "    </tr>\n",
       "    <tr>\n",
       "      <th>2</th>\n",
       "      <td>65.0</td>\n",
       "      <td>0</td>\n",
       "      <td>146</td>\n",
       "      <td>0</td>\n",
       "      <td>20</td>\n",
       "      <td>0</td>\n",
       "      <td>162000.00</td>\n",
       "      <td>1.3</td>\n",
       "      <td>129</td>\n",
       "      <td>1</td>\n",
       "      <td>1</td>\n",
       "      <td>7</td>\n",
       "      <td>1</td>\n",
       "    </tr>\n",
       "    <tr>\n",
       "      <th>3</th>\n",
       "      <td>50.0</td>\n",
       "      <td>1</td>\n",
       "      <td>111</td>\n",
       "      <td>0</td>\n",
       "      <td>20</td>\n",
       "      <td>0</td>\n",
       "      <td>210000.00</td>\n",
       "      <td>1.9</td>\n",
       "      <td>137</td>\n",
       "      <td>1</td>\n",
       "      <td>0</td>\n",
       "      <td>7</td>\n",
       "      <td>1</td>\n",
       "    </tr>\n",
       "    <tr>\n",
       "      <th>4</th>\n",
       "      <td>65.0</td>\n",
       "      <td>1</td>\n",
       "      <td>160</td>\n",
       "      <td>1</td>\n",
       "      <td>20</td>\n",
       "      <td>0</td>\n",
       "      <td>327000.00</td>\n",
       "      <td>2.7</td>\n",
       "      <td>116</td>\n",
       "      <td>0</td>\n",
       "      <td>0</td>\n",
       "      <td>8</td>\n",
       "      <td>1</td>\n",
       "    </tr>\n",
       "  </tbody>\n",
       "</table>\n",
       "</div>"
      ],
      "text/plain": [
       "    age  anaemia  creatinine_phosphokinase  diabetes  ejection_fraction  \\\n",
       "0  75.0        0                       582         0                 20   \n",
       "1  55.0        0                      7861         0                 38   \n",
       "2  65.0        0                       146         0                 20   \n",
       "3  50.0        1                       111         0                 20   \n",
       "4  65.0        1                       160         1                 20   \n",
       "\n",
       "   high_blood_pressure  platelets  serum_creatinine  serum_sodium  sex  \\\n",
       "0                    1  265000.00               1.9           130    1   \n",
       "1                    0  263358.03               1.1           136    1   \n",
       "2                    0  162000.00               1.3           129    1   \n",
       "3                    0  210000.00               1.9           137    1   \n",
       "4                    0  327000.00               2.7           116    0   \n",
       "\n",
       "   smoking  time  DEATH_EVENT  \n",
       "0        0     4            1  \n",
       "1        0     6            1  \n",
       "2        1     7            1  \n",
       "3        0     7            1  \n",
       "4        0     8            1  "
      ]
     },
     "execution_count": 2,
     "metadata": {},
     "output_type": "execute_result"
    }
   ],
   "source": [
    "data = pd.read_csv('../input/heart-failure-clinical-data/heart_failure_clinical_records_dataset.csv')\n",
    "data.head()"
   ]
  },
  {
   "cell_type": "code",
   "execution_count": 3,
   "id": "a6e7053f",
   "metadata": {
    "execution": {
     "iopub.execute_input": "2023-03-12T16:53:12.866643Z",
     "iopub.status.busy": "2023-03-12T16:53:12.866191Z",
     "iopub.status.idle": "2023-03-12T16:53:12.874364Z",
     "shell.execute_reply": "2023-03-12T16:53:12.873143Z"
    },
    "papermill": {
     "duration": 0.02486,
     "end_time": "2023-03-12T16:53:12.876915",
     "exception": false,
     "start_time": "2023-03-12T16:53:12.852055",
     "status": "completed"
    },
    "tags": []
   },
   "outputs": [
    {
     "data": {
      "text/plain": [
       "Index(['age', 'anaemia', 'creatinine_phosphokinase', 'diabetes',\n",
       "       'ejection_fraction', 'high_blood_pressure', 'platelets',\n",
       "       'serum_creatinine', 'serum_sodium', 'sex', 'smoking', 'time',\n",
       "       'DEATH_EVENT'],\n",
       "      dtype='object')"
      ]
     },
     "execution_count": 3,
     "metadata": {},
     "output_type": "execute_result"
    }
   ],
   "source": [
    "data.columns"
   ]
  },
  {
   "cell_type": "markdown",
   "id": "38b0cc3d",
   "metadata": {
    "papermill": {
     "duration": 0.012992,
     "end_time": "2023-03-12T16:53:12.902853",
     "exception": false,
     "start_time": "2023-03-12T16:53:12.889861",
     "status": "completed"
    },
    "tags": []
   },
   "source": [
    "\n",
    "* **age**: Age of the patient \n",
    "* **anaemia**: Haemoglobin level of patient (Boolean)\n",
    "* **creatinine_phosphokinase**: Level of the CPK enzyme in the blood (mcg/L)\n",
    "* **diabetes**: If the patient has diabetes (Boolean)\n",
    "* **ejection_fraction**: Percentage of blood leaving the heart at each contraction\n",
    "* **high_blood_pressure**: If the patient has hypertension (Boolean)\n",
    "* **platelets**: Platelet count of blood (kiloplatelets/mL)\n",
    "* **serum_creatinine**: Level of serum creatinine in the blood (mg/dL)\n",
    "* **serum_sodium**: Level of serum sodium in the blood (mEq/L)\n",
    "* **sex**: Sex of the patient\n",
    "* **smoking**: If the patient smokes or not (Boolean)\n",
    "* **time**: Follow-up period (days)\n",
    "* **DEATH_EVENT**: If the patient deceased during the follow-up period (Boolean)\n",
    "\n",
    "*total 13 columns*"
   ]
  },
  {
   "cell_type": "code",
   "execution_count": 4,
   "id": "120bfcc1",
   "metadata": {
    "execution": {
     "iopub.execute_input": "2023-03-12T16:53:12.930261Z",
     "iopub.status.busy": "2023-03-12T16:53:12.929784Z",
     "iopub.status.idle": "2023-03-12T16:53:12.994585Z",
     "shell.execute_reply": "2023-03-12T16:53:12.993193Z"
    },
    "papermill": {
     "duration": 0.081501,
     "end_time": "2023-03-12T16:53:12.997128",
     "exception": false,
     "start_time": "2023-03-12T16:53:12.915627",
     "status": "completed"
    },
    "tags": []
   },
   "outputs": [
    {
     "data": {
      "text/html": [
       "<div>\n",
       "<style scoped>\n",
       "    .dataframe tbody tr th:only-of-type {\n",
       "        vertical-align: middle;\n",
       "    }\n",
       "\n",
       "    .dataframe tbody tr th {\n",
       "        vertical-align: top;\n",
       "    }\n",
       "\n",
       "    .dataframe thead th {\n",
       "        text-align: right;\n",
       "    }\n",
       "</style>\n",
       "<table border=\"1\" class=\"dataframe\">\n",
       "  <thead>\n",
       "    <tr style=\"text-align: right;\">\n",
       "      <th></th>\n",
       "      <th>count</th>\n",
       "      <th>mean</th>\n",
       "      <th>std</th>\n",
       "      <th>min</th>\n",
       "      <th>25%</th>\n",
       "      <th>50%</th>\n",
       "      <th>75%</th>\n",
       "      <th>max</th>\n",
       "    </tr>\n",
       "  </thead>\n",
       "  <tbody>\n",
       "    <tr>\n",
       "      <th>age</th>\n",
       "      <td>299.0</td>\n",
       "      <td>60.833893</td>\n",
       "      <td>11.894809</td>\n",
       "      <td>40.0</td>\n",
       "      <td>51.0</td>\n",
       "      <td>60.0</td>\n",
       "      <td>70.0</td>\n",
       "      <td>95.0</td>\n",
       "    </tr>\n",
       "    <tr>\n",
       "      <th>anaemia</th>\n",
       "      <td>299.0</td>\n",
       "      <td>0.431438</td>\n",
       "      <td>0.496107</td>\n",
       "      <td>0.0</td>\n",
       "      <td>0.0</td>\n",
       "      <td>0.0</td>\n",
       "      <td>1.0</td>\n",
       "      <td>1.0</td>\n",
       "    </tr>\n",
       "    <tr>\n",
       "      <th>creatinine_phosphokinase</th>\n",
       "      <td>299.0</td>\n",
       "      <td>581.839465</td>\n",
       "      <td>970.287881</td>\n",
       "      <td>23.0</td>\n",
       "      <td>116.5</td>\n",
       "      <td>250.0</td>\n",
       "      <td>582.0</td>\n",
       "      <td>7861.0</td>\n",
       "    </tr>\n",
       "    <tr>\n",
       "      <th>diabetes</th>\n",
       "      <td>299.0</td>\n",
       "      <td>0.418060</td>\n",
       "      <td>0.494067</td>\n",
       "      <td>0.0</td>\n",
       "      <td>0.0</td>\n",
       "      <td>0.0</td>\n",
       "      <td>1.0</td>\n",
       "      <td>1.0</td>\n",
       "    </tr>\n",
       "    <tr>\n",
       "      <th>ejection_fraction</th>\n",
       "      <td>299.0</td>\n",
       "      <td>38.083612</td>\n",
       "      <td>11.834841</td>\n",
       "      <td>14.0</td>\n",
       "      <td>30.0</td>\n",
       "      <td>38.0</td>\n",
       "      <td>45.0</td>\n",
       "      <td>80.0</td>\n",
       "    </tr>\n",
       "    <tr>\n",
       "      <th>high_blood_pressure</th>\n",
       "      <td>299.0</td>\n",
       "      <td>0.351171</td>\n",
       "      <td>0.478136</td>\n",
       "      <td>0.0</td>\n",
       "      <td>0.0</td>\n",
       "      <td>0.0</td>\n",
       "      <td>1.0</td>\n",
       "      <td>1.0</td>\n",
       "    </tr>\n",
       "    <tr>\n",
       "      <th>platelets</th>\n",
       "      <td>299.0</td>\n",
       "      <td>263358.029264</td>\n",
       "      <td>97804.236869</td>\n",
       "      <td>25100.0</td>\n",
       "      <td>212500.0</td>\n",
       "      <td>262000.0</td>\n",
       "      <td>303500.0</td>\n",
       "      <td>850000.0</td>\n",
       "    </tr>\n",
       "    <tr>\n",
       "      <th>serum_creatinine</th>\n",
       "      <td>299.0</td>\n",
       "      <td>1.393880</td>\n",
       "      <td>1.034510</td>\n",
       "      <td>0.5</td>\n",
       "      <td>0.9</td>\n",
       "      <td>1.1</td>\n",
       "      <td>1.4</td>\n",
       "      <td>9.4</td>\n",
       "    </tr>\n",
       "    <tr>\n",
       "      <th>serum_sodium</th>\n",
       "      <td>299.0</td>\n",
       "      <td>136.625418</td>\n",
       "      <td>4.412477</td>\n",
       "      <td>113.0</td>\n",
       "      <td>134.0</td>\n",
       "      <td>137.0</td>\n",
       "      <td>140.0</td>\n",
       "      <td>148.0</td>\n",
       "    </tr>\n",
       "    <tr>\n",
       "      <th>sex</th>\n",
       "      <td>299.0</td>\n",
       "      <td>0.648829</td>\n",
       "      <td>0.478136</td>\n",
       "      <td>0.0</td>\n",
       "      <td>0.0</td>\n",
       "      <td>1.0</td>\n",
       "      <td>1.0</td>\n",
       "      <td>1.0</td>\n",
       "    </tr>\n",
       "    <tr>\n",
       "      <th>smoking</th>\n",
       "      <td>299.0</td>\n",
       "      <td>0.321070</td>\n",
       "      <td>0.467670</td>\n",
       "      <td>0.0</td>\n",
       "      <td>0.0</td>\n",
       "      <td>0.0</td>\n",
       "      <td>1.0</td>\n",
       "      <td>1.0</td>\n",
       "    </tr>\n",
       "    <tr>\n",
       "      <th>time</th>\n",
       "      <td>299.0</td>\n",
       "      <td>130.260870</td>\n",
       "      <td>77.614208</td>\n",
       "      <td>4.0</td>\n",
       "      <td>73.0</td>\n",
       "      <td>115.0</td>\n",
       "      <td>203.0</td>\n",
       "      <td>285.0</td>\n",
       "    </tr>\n",
       "    <tr>\n",
       "      <th>DEATH_EVENT</th>\n",
       "      <td>299.0</td>\n",
       "      <td>0.321070</td>\n",
       "      <td>0.467670</td>\n",
       "      <td>0.0</td>\n",
       "      <td>0.0</td>\n",
       "      <td>0.0</td>\n",
       "      <td>1.0</td>\n",
       "      <td>1.0</td>\n",
       "    </tr>\n",
       "  </tbody>\n",
       "</table>\n",
       "</div>"
      ],
      "text/plain": [
       "                          count           mean           std      min  \\\n",
       "age                       299.0      60.833893     11.894809     40.0   \n",
       "anaemia                   299.0       0.431438      0.496107      0.0   \n",
       "creatinine_phosphokinase  299.0     581.839465    970.287881     23.0   \n",
       "diabetes                  299.0       0.418060      0.494067      0.0   \n",
       "ejection_fraction         299.0      38.083612     11.834841     14.0   \n",
       "high_blood_pressure       299.0       0.351171      0.478136      0.0   \n",
       "platelets                 299.0  263358.029264  97804.236869  25100.0   \n",
       "serum_creatinine          299.0       1.393880      1.034510      0.5   \n",
       "serum_sodium              299.0     136.625418      4.412477    113.0   \n",
       "sex                       299.0       0.648829      0.478136      0.0   \n",
       "smoking                   299.0       0.321070      0.467670      0.0   \n",
       "time                      299.0     130.260870     77.614208      4.0   \n",
       "DEATH_EVENT               299.0       0.321070      0.467670      0.0   \n",
       "\n",
       "                               25%       50%       75%       max  \n",
       "age                           51.0      60.0      70.0      95.0  \n",
       "anaemia                        0.0       0.0       1.0       1.0  \n",
       "creatinine_phosphokinase     116.5     250.0     582.0    7861.0  \n",
       "diabetes                       0.0       0.0       1.0       1.0  \n",
       "ejection_fraction             30.0      38.0      45.0      80.0  \n",
       "high_blood_pressure            0.0       0.0       1.0       1.0  \n",
       "platelets                 212500.0  262000.0  303500.0  850000.0  \n",
       "serum_creatinine               0.9       1.1       1.4       9.4  \n",
       "serum_sodium                 134.0     137.0     140.0     148.0  \n",
       "sex                            0.0       1.0       1.0       1.0  \n",
       "smoking                        0.0       0.0       1.0       1.0  \n",
       "time                          73.0     115.0     203.0     285.0  \n",
       "DEATH_EVENT                    0.0       0.0       1.0       1.0  "
      ]
     },
     "execution_count": 4,
     "metadata": {},
     "output_type": "execute_result"
    }
   ],
   "source": [
    "data.describe().T"
   ]
  },
  {
   "cell_type": "code",
   "execution_count": 5,
   "id": "3068e077",
   "metadata": {
    "execution": {
     "iopub.execute_input": "2023-03-12T16:53:13.025957Z",
     "iopub.status.busy": "2023-03-12T16:53:13.024820Z",
     "iopub.status.idle": "2023-03-12T16:53:13.043559Z",
     "shell.execute_reply": "2023-03-12T16:53:13.042017Z"
    },
    "papermill": {
     "duration": 0.035846,
     "end_time": "2023-03-12T16:53:13.046191",
     "exception": false,
     "start_time": "2023-03-12T16:53:13.010345",
     "status": "completed"
    },
    "tags": []
   },
   "outputs": [
    {
     "name": "stdout",
     "output_type": "stream",
     "text": [
      "<class 'pandas.core.frame.DataFrame'>\n",
      "RangeIndex: 299 entries, 0 to 298\n",
      "Data columns (total 13 columns):\n",
      " #   Column                    Non-Null Count  Dtype  \n",
      "---  ------                    --------------  -----  \n",
      " 0   age                       299 non-null    float64\n",
      " 1   anaemia                   299 non-null    int64  \n",
      " 2   creatinine_phosphokinase  299 non-null    int64  \n",
      " 3   diabetes                  299 non-null    int64  \n",
      " 4   ejection_fraction         299 non-null    int64  \n",
      " 5   high_blood_pressure       299 non-null    int64  \n",
      " 6   platelets                 299 non-null    float64\n",
      " 7   serum_creatinine          299 non-null    float64\n",
      " 8   serum_sodium              299 non-null    int64  \n",
      " 9   sex                       299 non-null    int64  \n",
      " 10  smoking                   299 non-null    int64  \n",
      " 11  time                      299 non-null    int64  \n",
      " 12  DEATH_EVENT               299 non-null    int64  \n",
      "dtypes: float64(3), int64(10)\n",
      "memory usage: 30.5 KB\n"
     ]
    }
   ],
   "source": [
    "data.info()"
   ]
  },
  {
   "cell_type": "markdown",
   "id": "61d96e48",
   "metadata": {
    "papermill": {
     "duration": 0.013503,
     "end_time": "2023-03-12T16:53:13.073118",
     "exception": false,
     "start_time": "2023-03-12T16:53:13.059615",
     "status": "completed"
    },
    "tags": []
   },
   "source": [
    "\n",
    "<h1 style=\"padding:8px;background-color:#DC143C;margin:0;color:white;font-family:Century Gothic;font-size:200%;text-align:center;border-radius: 15px 15px;letter-spacing:0.5px;overflow:hidden;font-weight:500\">CHECKING MISSING VALUES</h1> <a class=\"anchor\" id=\"3\"></a>"
   ]
  },
  {
   "cell_type": "code",
   "execution_count": 6,
   "id": "5747cb8e",
   "metadata": {
    "execution": {
     "iopub.execute_input": "2023-03-12T16:53:13.102077Z",
     "iopub.status.busy": "2023-03-12T16:53:13.101395Z",
     "iopub.status.idle": "2023-03-12T16:53:13.112626Z",
     "shell.execute_reply": "2023-03-12T16:53:13.111353Z"
    },
    "papermill": {
     "duration": 0.028826,
     "end_time": "2023-03-12T16:53:13.115289",
     "exception": false,
     "start_time": "2023-03-12T16:53:13.086463",
     "status": "completed"
    },
    "tags": []
   },
   "outputs": [
    {
     "data": {
      "text/plain": [
       "age                         0\n",
       "anaemia                     0\n",
       "creatinine_phosphokinase    0\n",
       "diabetes                    0\n",
       "ejection_fraction           0\n",
       "high_blood_pressure         0\n",
       "platelets                   0\n",
       "serum_creatinine            0\n",
       "serum_sodium                0\n",
       "sex                         0\n",
       "smoking                     0\n",
       "time                        0\n",
       "DEATH_EVENT                 0\n",
       "dtype: int64"
      ]
     },
     "execution_count": 6,
     "metadata": {},
     "output_type": "execute_result"
    }
   ],
   "source": [
    "data.isna().sum()"
   ]
  },
  {
   "cell_type": "markdown",
   "id": "1cc3bf9e",
   "metadata": {
    "papermill": {
     "duration": 0.012945,
     "end_time": "2023-03-12T16:53:13.141561",
     "exception": false,
     "start_time": "2023-03-12T16:53:13.128616",
     "status": "completed"
    },
    "tags": []
   },
   "source": [
    "* **There's no missing value in dataset.**\n",
    "\n",
    "**We can see that there's no missing value in dataset. but in case we have missing value, we can still remove it by deleting those rows but it can cause the information loss.**"
   ]
  },
  {
   "cell_type": "markdown",
   "id": "4cf578da",
   "metadata": {
    "papermill": {
     "duration": 0.013219,
     "end_time": "2023-03-12T16:53:13.168490",
     "exception": false,
     "start_time": "2023-03-12T16:53:13.155271",
     "status": "completed"
    },
    "tags": []
   },
   "source": [
    "<h1 style=\"padding:8px;background-color:#DC143C;margin:0;color:white;font-family:Century Gothic;font-size:200%;text-align:center;border-radius: 15px 15px;letter-spacing:0.5px;overflow:hidden;font-weight:500\">EXPLORATORY DATA ANALYSIS (EDA)</h1> <a class=\"anchor\" id=\"5\"></a> "
   ]
  },
  {
   "cell_type": "markdown",
   "id": "021c4045",
   "metadata": {
    "papermill": {
     "duration": 0.012949,
     "end_time": "2023-03-12T16:53:13.194820",
     "exception": false,
     "start_time": "2023-03-12T16:53:13.181871",
     "status": "completed"
    },
    "tags": []
   },
   "source": [
    "Why we need to do EDA?\n",
    "Understanding the given dataset and helps clean up the given dataset.\n",
    "It gives you a clear picture of the features and the relationships between them.\n",
    "Providing guidelines for essential variables and leaving behind/removing non-essential variables.\n",
    "Handling Missing values or human error.\n",
    "Identifying outliers.\n",
    "EDA process would be maximizing insights of a dataset.\n",
    "This process is time-consuming but very effective"
   ]
  },
  {
   "cell_type": "markdown",
   "id": "cb88f3c4",
   "metadata": {
    "papermill": {
     "duration": 0.012981,
     "end_time": "2023-03-12T16:53:13.221126",
     "exception": false,
     "start_time": "2023-03-12T16:53:13.208145",
     "status": "completed"
    },
    "tags": []
   },
   "source": [
    "**Note:**\n",
    "\n",
    "**Sex - Gender of patient Male = 1, Female =0**\n",
    "\n",
    "**Age - Age of patient**\n",
    "\n",
    "**Diabetes - 0 = No, 1 = Yes**\n",
    "\n",
    "**Anaemia - 0 = No, 1 = Yes**\n",
    "\n",
    "**High_blood_pressure - 0 = No, 1 = Yes**\n",
    "\n",
    "**Smoking - 0 = No, 1 = Yes**\n",
    "\n",
    "**DEATH_EVENT - 0 = No, 1 = Yes**"
   ]
  },
  {
   "cell_type": "markdown",
   "id": "f103d0cd",
   "metadata": {
    "papermill": {
     "duration": 0.013048,
     "end_time": "2023-03-12T16:53:13.247520",
     "exception": false,
     "start_time": "2023-03-12T16:53:13.234472",
     "status": "completed"
    },
    "tags": []
   },
   "source": [
    "<h1 style=\"padding:8px;background-color:#DC143C;margin:0;color:white;font-family:Century Gothic;font-size:200%;text-align:center;border-radius: 15px 15px;letter-spacing:0.5px;overflow:hidden;font-weight:500\">DATA VISUALIZATION & TRANSFORMATION</h1> <a class=\"anchor\" id=\"5\"></a> "
   ]
  },
  {
   "cell_type": "code",
   "execution_count": 7,
   "id": "c205dd10",
   "metadata": {
    "execution": {
     "iopub.execute_input": "2023-03-12T16:53:13.277511Z",
     "iopub.status.busy": "2023-03-12T16:53:13.276303Z",
     "iopub.status.idle": "2023-03-12T16:53:13.283007Z",
     "shell.execute_reply": "2023-03-12T16:53:13.281594Z"
    },
    "papermill": {
     "duration": 0.024871,
     "end_time": "2023-03-12T16:53:13.285799",
     "exception": false,
     "start_time": "2023-03-12T16:53:13.260928",
     "status": "completed"
    },
    "tags": []
   },
   "outputs": [],
   "source": [
    "categorical_data = [\"anaemia\",\"diabetes\",\"high_blood_pressure\",\"sex\",\"smoking\"]\n",
    "continuous_data = [\"age\",\"creatinine_phosphokinase\",\"ejection_fraction\",\"platelets\",\"serum_creatinine\",\"serum_sodium\",\"time\"]"
   ]
  },
  {
   "cell_type": "code",
   "execution_count": 8,
   "id": "35790d8f",
   "metadata": {
    "execution": {
     "iopub.execute_input": "2023-03-12T16:53:13.315126Z",
     "iopub.status.busy": "2023-03-12T16:53:13.314662Z",
     "iopub.status.idle": "2023-03-12T16:53:13.325149Z",
     "shell.execute_reply": "2023-03-12T16:53:13.324143Z"
    },
    "papermill": {
     "duration": 0.028407,
     "end_time": "2023-03-12T16:53:13.327728",
     "exception": false,
     "start_time": "2023-03-12T16:53:13.299321",
     "status": "completed"
    },
    "tags": []
   },
   "outputs": [],
   "source": [
    "# for subplots\n",
    "def subplts(r=1, c=1, fs=(20, 8)):\n",
    "    return plt.subplots(r, c, figsize=fs)\n",
    "# count plot\n",
    "def plot_count(x, ax, d=data):\n",
    "    sns.countplot(data=d, x=x, ax=ax)\n",
    "    # pie chart using pandas\n",
    "def plot_pie(feat, ax, title):\n",
    "    data[f\"{feat}\"].value_counts().plot.pie(ax=ax, autopct=\"%1.1f%%\",\n",
    "                                          shadow=True, explode=[0, 0.1]).set_title(f\"{title}\")\n",
    "    # histogram without hue\n",
    "def plot_hist(x, ax, d=data, kde=True, log=False):\n",
    "    sns.histplot(data=d, x=x, ax=ax, kde=kde, log_scale=log)\n",
    "    # boxplot single\n",
    "def plot_box(x, ax, d=data):\n",
    "    sns.boxplot(data=d, x=x, ax=ax)\n",
    "    \n",
    "# boxplot with one categorical\n",
    "def plot_boxcat(x, y, ax, d=data):\n",
    "    sns.boxplot(data=d, x=x, y=y, ax=ax)"
   ]
  },
  {
   "cell_type": "code",
   "execution_count": 9,
   "id": "59674b12",
   "metadata": {
    "execution": {
     "iopub.execute_input": "2023-03-12T16:53:13.357700Z",
     "iopub.status.busy": "2023-03-12T16:53:13.356993Z",
     "iopub.status.idle": "2023-03-12T16:53:13.710724Z",
     "shell.execute_reply": "2023-03-12T16:53:13.709454Z"
    },
    "papermill": {
     "duration": 0.371994,
     "end_time": "2023-03-12T16:53:13.713139",
     "exception": false,
     "start_time": "2023-03-12T16:53:13.341145",
     "status": "completed"
    },
    "tags": []
   },
   "outputs": [
    {
     "data": {
      "image/png": "[encoded data removed]",
      "text/plain": [
       "<Figure size 1440x576 with 2 Axes>"
      ]
     },
     "metadata": {
      "needs_background": "light"
     },
     "output_type": "display_data"
    }
   ],
   "source": [
    "fig, ax = subplts(1, 2)\n",
    "\n",
    "plot_hist(\"age\", ax[0])\n",
    "plot_box(\"age\", ax[1])\n",
    "\n",
    "plt.show()"
   ]
  },
  {
   "cell_type": "markdown",
   "id": "fe01e3c0",
   "metadata": {
    "papermill": {
     "duration": 0.013447,
     "end_time": "2023-03-12T16:53:13.740426",
     "exception": false,
     "start_time": "2023-03-12T16:53:13.726979",
     "status": "completed"
    },
    "tags": []
   },
   "source": [
    "REMARKS:\n",
    "* **Minimum age recorded in this dataset is 40 years**\n",
    "* **Maximum age is 95 years**\n",
    "* **Most people are 60 years old in this dataset**"
   ]
  },
  {
   "cell_type": "code",
   "execution_count": 10,
   "id": "f666b0b0",
   "metadata": {
    "execution": {
     "iopub.execute_input": "2023-03-12T16:53:13.772060Z",
     "iopub.status.busy": "2023-03-12T16:53:13.771357Z",
     "iopub.status.idle": "2023-03-12T16:53:14.047680Z",
     "shell.execute_reply": "2023-03-12T16:53:14.046321Z"
    },
    "papermill": {
     "duration": 0.296415,
     "end_time": "2023-03-12T16:53:14.050665",
     "exception": false,
     "start_time": "2023-03-12T16:53:13.754250",
     "status": "completed"
    },
    "tags": []
   },
   "outputs": [
    {
     "data": {
      "image/png": "[encoded data removed]",
      "text/plain": [
       "<Figure size 1440x576 with 2 Axes>"
      ]
     },
     "metadata": {
      "needs_background": "light"
     },
     "output_type": "display_data"
    }
   ],
   "source": [
    "fig, ax = subplts(1, 2)\n",
    "\n",
    "plot_count(\"sex\", ax[0])\n",
    "plot_pie(\"sex\", ax[1], \"Gender Distribution\")\n",
    "\n",
    "plt.show()"
   ]
  },
  {
   "cell_type": "markdown",
   "id": "3610d18c",
   "metadata": {
    "papermill": {
     "duration": 0.014301,
     "end_time": "2023-03-12T16:53:14.079980",
     "exception": false,
     "start_time": "2023-03-12T16:53:14.065679",
     "status": "completed"
    },
    "tags": []
   },
   "source": [
    "REMARKS:\n",
    "* **64.9% is male population.**\n",
    "* **35.1% is Female population**"
   ]
  },
  {
   "cell_type": "code",
   "execution_count": 11,
   "id": "e07b6baf",
   "metadata": {
    "execution": {
     "iopub.execute_input": "2023-03-12T16:53:14.110922Z",
     "iopub.status.busy": "2023-03-12T16:53:14.110455Z",
     "iopub.status.idle": "2023-03-12T16:53:14.519910Z",
     "shell.execute_reply": "2023-03-12T16:53:14.518513Z"
    },
    "papermill": {
     "duration": 0.428103,
     "end_time": "2023-03-12T16:53:14.522663",
     "exception": false,
     "start_time": "2023-03-12T16:53:14.094560",
     "status": "completed"
    },
    "tags": []
   },
   "outputs": [
    {
     "data": {
      "image/png": "[encoded data removed]",
      "text/plain": [
       "<Figure size 1440x576 with 2 Axes>"
      ]
     },
     "metadata": {
      "needs_background": "light"
     },
     "output_type": "display_data"
    }
   ],
   "source": [
    "fig, ax = subplts(1, 2)\n",
    "\n",
    "plot_count(\"anaemia\", ax[0])\n",
    "plot_pie(\"anaemia\", ax[1], \"Patient has anaemia?\")\n",
    "\n",
    "plt.show()"
   ]
  },
  {
   "cell_type": "markdown",
   "id": "8dd8df53",
   "metadata": {
    "papermill": {
     "duration": 0.01566,
     "end_time": "2023-03-12T16:53:14.554558",
     "exception": false,
     "start_time": "2023-03-12T16:53:14.538898",
     "status": "completed"
    },
    "tags": []
   },
   "source": [
    "REMARKS:\n",
    "* **56.9% people DO NOT have anaemia**\n",
    "* **43.1% people have anaemia**"
   ]
  },
  {
   "cell_type": "code",
   "execution_count": 12,
   "id": "e397f0d7",
   "metadata": {
    "execution": {
     "iopub.execute_input": "2023-03-12T16:53:14.587156Z",
     "iopub.status.busy": "2023-03-12T16:53:14.586708Z",
     "iopub.status.idle": "2023-03-12T16:53:14.910093Z",
     "shell.execute_reply": "2023-03-12T16:53:14.908721Z"
    },
    "papermill": {
     "duration": 0.342853,
     "end_time": "2023-03-12T16:53:14.912863",
     "exception": false,
     "start_time": "2023-03-12T16:53:14.570010",
     "status": "completed"
    },
    "tags": []
   },
   "outputs": [
    {
     "data": {
      "image/png": "[encoded data removed]",
      "text/plain": [
       "<Figure size 1440x576 with 2 Axes>"
      ]
     },
     "metadata": {
      "needs_background": "light"
     },
     "output_type": "display_data"
    }
   ],
   "source": [
    "fig, ax = subplts(1, 2)\n",
    "\n",
    "plot_count(\"diabetes\", ax[0])\n",
    "plot_pie(\"diabetes\", ax[1], \"Patient has diabetes?\")\n",
    "\n",
    "plt.show()"
   ]
  },
  {
   "cell_type": "markdown",
   "id": "90209a97",
   "metadata": {
    "papermill": {
     "duration": 0.01676,
     "end_time": "2023-03-12T16:53:14.946870",
     "exception": false,
     "start_time": "2023-03-12T16:53:14.930110",
     "status": "completed"
    },
    "tags": []
   },
   "source": [
    "REMARKS:\n",
    "* **58.2% people DOES NOT have Diabetes**\n",
    "* **41.8% people have Diabetes**"
   ]
  },
  {
   "cell_type": "code",
   "execution_count": 13,
   "id": "4f135c99",
   "metadata": {
    "execution": {
     "iopub.execute_input": "2023-03-12T16:53:14.980285Z",
     "iopub.status.busy": "2023-03-12T16:53:14.979804Z",
     "iopub.status.idle": "2023-03-12T16:53:15.303100Z",
     "shell.execute_reply": "2023-03-12T16:53:15.301862Z"
    },
    "papermill": {
     "duration": 0.342948,
     "end_time": "2023-03-12T16:53:15.305658",
     "exception": false,
     "start_time": "2023-03-12T16:53:14.962710",
     "status": "completed"
    },
    "tags": []
   },
   "outputs": [
    {
     "data": {
      "image/png": "[encoded data removed]",
      "text/plain": [
       "<Figure size 1440x576 with 2 Axes>"
      ]
     },
     "metadata": {
      "needs_background": "light"
     },
     "output_type": "display_data"
    }
   ],
   "source": [
    "fig, ax = subplts(1, 2)\n",
    "\n",
    "plot_count(\"high_blood_pressure\", ax[0])\n",
    "plot_pie(\"high_blood_pressure\", ax[1], \"Patient has high blood pressure?\")\n",
    "\n",
    "plt.show()"
   ]
  },
  {
   "cell_type": "markdown",
   "id": "b72e6a7f",
   "metadata": {
    "papermill": {
     "duration": 0.01673,
     "end_time": "2023-03-12T16:53:15.339121",
     "exception": false,
     "start_time": "2023-03-12T16:53:15.322391",
     "status": "completed"
    },
    "tags": []
   },
   "source": [
    "REMARKS:\n",
    "* **64.9% people do NOT have High Blood Pressure** \n",
    "* **35.1% have high blood pressure**"
   ]
  },
  {
   "cell_type": "code",
   "execution_count": 14,
   "id": "2ce5c778",
   "metadata": {
    "execution": {
     "iopub.execute_input": "2023-03-12T16:53:15.374009Z",
     "iopub.status.busy": "2023-03-12T16:53:15.373542Z",
     "iopub.status.idle": "2023-03-12T16:53:15.694153Z",
     "shell.execute_reply": "2023-03-12T16:53:15.693082Z"
    },
    "papermill": {
     "duration": 0.341413,
     "end_time": "2023-03-12T16:53:15.696847",
     "exception": false,
     "start_time": "2023-03-12T16:53:15.355434",
     "status": "completed"
    },
    "tags": []
   },
   "outputs": [
    {
     "data": {
      "image/png": "[encoded data removed]",
      "text/plain": [
       "<Figure size 1440x576 with 2 Axes>"
      ]
     },
     "metadata": {
      "needs_background": "light"
     },
     "output_type": "display_data"
    }
   ],
   "source": [
    "fig, ax = subplts(1, 2)\n",
    "\n",
    "plot_count(\"smoking\", ax[0])\n",
    "plot_pie(\"smoking\", ax[1], \"Patient is a smoker?\")\n",
    "\n",
    "plt.show()"
   ]
  },
  {
   "cell_type": "markdown",
   "id": "ab958da6",
   "metadata": {
    "papermill": {
     "duration": 0.016724,
     "end_time": "2023-03-12T16:53:15.730867",
     "exception": false,
     "start_time": "2023-03-12T16:53:15.714143",
     "status": "completed"
    },
    "tags": []
   },
   "source": [
    "REMARKS:\n",
    "* **67.9% people do NOT smoke**\n",
    "* **32.1% people are smokers**"
   ]
  },
  {
   "cell_type": "markdown",
   "id": "c40af488",
   "metadata": {
    "papermill": {
     "duration": 0.017049,
     "end_time": "2023-03-12T16:53:15.765593",
     "exception": false,
     "start_time": "2023-03-12T16:53:15.748544",
     "status": "completed"
    },
    "tags": []
   },
   "source": [
    "### * **Correlation of DEATH EVENTS with Categorical and Continuous variables** "
   ]
  },
  {
   "cell_type": "code",
   "execution_count": 15,
   "id": "482e5301",
   "metadata": {
    "execution": {
     "iopub.execute_input": "2023-03-12T16:53:15.802644Z",
     "iopub.status.busy": "2023-03-12T16:53:15.801744Z",
     "iopub.status.idle": "2023-03-12T16:53:15.807779Z",
     "shell.execute_reply": "2023-03-12T16:53:15.806762Z"
    },
    "papermill": {
     "duration": 0.027595,
     "end_time": "2023-03-12T16:53:15.810484",
     "exception": false,
     "start_time": "2023-03-12T16:53:15.782889",
     "status": "completed"
    },
    "tags": []
   },
   "outputs": [],
   "source": [
    "datav1 = data.copy()\n",
    "columns = datav1.columns.tolist()"
   ]
  },
  {
   "cell_type": "code",
   "execution_count": 16,
   "id": "379b5ce5",
   "metadata": {
    "execution": {
     "iopub.execute_input": "2023-03-12T16:53:15.847121Z",
     "iopub.status.busy": "2023-03-12T16:53:15.846485Z",
     "iopub.status.idle": "2023-03-12T16:53:15.860168Z",
     "shell.execute_reply": "2023-03-12T16:53:15.859030Z"
    },
    "papermill": {
     "duration": 0.034974,
     "end_time": "2023-03-12T16:53:15.862763",
     "exception": false,
     "start_time": "2023-03-12T16:53:15.827789",
     "status": "completed"
    },
    "tags": []
   },
   "outputs": [],
   "source": [
    "# Plotting the impact of categorical variables on DEATH_EVENT\n",
    "Cat_columns = list()\n",
    "numerical_values = list()\n",
    "for column in columns : \n",
    "    if datav1[column].nunique() <= 2 :\n",
    "        Cat_columns.append(column)\n",
    "    else : \n",
    "        numerical_values.append(column)\n",
    "Cat_columns.remove(\"DEATH_EVENT\")\n",
    "\n",
    "cat_cols = Cat_columns\n",
    "sns.cubehelix_palette(start=2, rot=0, dark=0, light=.95, reverse=True, as_cmap=True)\n",
    "\n",
    "\n",
    "def cat_graph(data_,attr,out):\n",
    "    sns.catplot(x=attr, hue=out, kind=\"count\",palette=\"crest\", edgecolor=\".6\",data= data_)\n",
    "    plt.title( 'DEATH_EVENT occurrence in %s  attribute' %attr)\n",
    "    plt.show()\n",
    "    \n",
    "    return datav1[[out,attr]].groupby([attr,out], as_index=False).size().sort_values(by=attr, ascending=False)"
   ]
  },
  {
   "cell_type": "code",
   "execution_count": 17,
   "id": "235547df",
   "metadata": {
    "execution": {
     "iopub.execute_input": "2023-03-12T16:53:15.899859Z",
     "iopub.status.busy": "2023-03-12T16:53:15.898651Z",
     "iopub.status.idle": "2023-03-12T16:53:17.707594Z",
     "shell.execute_reply": "2023-03-12T16:53:17.705649Z"
    },
    "papermill": {
     "duration": 1.830602,
     "end_time": "2023-03-12T16:53:17.710533",
     "exception": false,
     "start_time": "2023-03-12T16:53:15.879931",
     "status": "completed"
    },
    "tags": []
   },
   "outputs": [
    {
     "data": {
      "image/png": "[encoded data removed]",
      "text/plain": [
       "<Figure size 439.5x360 with 1 Axes>"
      ]
     },
     "metadata": {
      "needs_background": "light"
     },
     "output_type": "display_data"
    },
    {
     "name": "stdout",
     "output_type": "stream",
     "text": [
      "   anaemia  DEATH_EVENT  size\n",
      "2        1            0    83\n",
      "3        1            1    46\n",
      "0        0            0   120\n",
      "1        0            1    50 \n",
      "\n"
     ]
    },
    {
     "data": {
      "image/png": "[encoded data removed]",
      "text/plain": [
       "<Figure size 439.5x360 with 1 Axes>"
      ]
     },
     "metadata": {
      "needs_background": "light"
     },
     "output_type": "display_data"
    },
    {
     "name": "stdout",
     "output_type": "stream",
     "text": [
      "   diabetes  DEATH_EVENT  size\n",
      "2         1            0    85\n",
      "3         1            1    40\n",
      "0         0            0   118\n",
      "1         0            1    56 \n",
      "\n"
     ]
    },
    {
     "data": {
      "image/png": "[encoded data removed]",
      "text/plain": [
       "<Figure size 439.5x360 with 1 Axes>"
      ]
     },
     "metadata": {
      "needs_background": "light"
     },
     "output_type": "display_data"
    },
    {
     "name": "stdout",
     "output_type": "stream",
     "text": [
      "   high_blood_pressure  DEATH_EVENT  size\n",
      "2                    1            0    66\n",
      "3                    1            1    39\n",
      "0                    0            0   137\n",
      "1                    0            1    57 \n",
      "\n"
     ]
    },
    {
     "data": {
      "image/png": "[encoded data removed]",
      "text/plain": [
       "<Figure size 439.5x360 with 1 Axes>"
      ]
     },
     "metadata": {
      "needs_background": "light"
     },
     "output_type": "display_data"
    },
    {
     "name": "stdout",
     "output_type": "stream",
     "text": [
      "   sex  DEATH_EVENT  size\n",
      "2    1            0   132\n",
      "3    1            1    62\n",
      "0    0            0    71\n",
      "1    0            1    34 \n",
      "\n"
     ]
    },
    {
     "data": {
      "image/png": "[encoded data removed]",
      "text/plain": [
       "<Figure size 439.5x360 with 1 Axes>"
      ]
     },
     "metadata": {
      "needs_background": "light"
     },
     "output_type": "display_data"
    },
    {
     "name": "stdout",
     "output_type": "stream",
     "text": [
      "   smoking  DEATH_EVENT  size\n",
      "2        1            0    66\n",
      "3        1            1    30\n",
      "0        0            0   137\n",
      "1        0            1    66 \n",
      "\n"
     ]
    }
   ],
   "source": [
    "for attr in Cat_columns :\n",
    "    print(cat_graph(datav1,attr,\"DEATH_EVENT\"),'\\n')\n"
   ]
  },
  {
   "cell_type": "markdown",
   "id": "5448ac24",
   "metadata": {
    "papermill": {
     "duration": 0.018433,
     "end_time": "2023-03-12T16:53:17.748127",
     "exception": false,
     "start_time": "2023-03-12T16:53:17.729694",
     "status": "completed"
    },
    "tags": []
   },
   "source": [
    "**Note:**\n",
    "\n",
    "**1. Here, out of 96 smokers have a 31% risk of suffering a heart attack(i.e 30 deaths, 66 survived), whereas 203 non-smokers have a 32.5% chance (i.e 66 deaths, 137 survived). However, generally smokers experience more deaths than non-smokers do. In this dataset number of smoker are high and number of death is low. Therefore, unstable data can lead to such issues.**\n",
    "\n",
    "**2. People with high blood pressure have a 37.14% chance of having a heart attack, while those with normal blood pressure have a 29.38% chance.**\n",
    "\n",
    "**3. Anaemia significantly increases a person's risk of having a heart attack, increasing that risk from 29.41% to 35.66% when compared to a\n",
    "   person without anaemia.**"
   ]
  },
  {
   "cell_type": "code",
   "execution_count": 18,
   "id": "99baebce",
   "metadata": {
    "execution": {
     "iopub.execute_input": "2023-03-12T16:53:17.788519Z",
     "iopub.status.busy": "2023-03-12T16:53:17.788077Z",
     "iopub.status.idle": "2023-03-12T16:53:20.231461Z",
     "shell.execute_reply": "2023-03-12T16:53:20.230175Z"
    },
    "papermill": {
     "duration": 2.467362,
     "end_time": "2023-03-12T16:53:20.234519",
     "exception": false,
     "start_time": "2023-03-12T16:53:17.767157",
     "status": "completed"
    },
    "tags": []
   },
   "outputs": [
    {
     "data": {
      "image/png": "[encoded data removed]",
      "text/plain": [
       "<Figure size 1440x1368 with 7 Axes>"
      ]
     },
     "metadata": {
      "needs_background": "light"
     },
     "output_type": "display_data"
    }
   ],
   "source": [
    "# Plotting the impact of continuous variables on DEATH_EVENT\n",
    "\n",
    "plt.figure(figsize=(20,19))\n",
    "for j,con in enumerate(continuous_data):\n",
    "    plt.subplot(4,3,j+1)\n",
    "    sns.histplot(data = data, x= con, hue = \"DEATH_EVENT\", multiple=\"stack\")\n",
    "plt.show()"
   ]
  },
  {
   "cell_type": "markdown",
   "id": "94e37762",
   "metadata": {
    "papermill": {
     "duration": 0.020572,
     "end_time": "2023-03-12T16:53:20.277088",
     "exception": false,
     "start_time": "2023-03-12T16:53:20.256516",
     "status": "completed"
    },
    "tags": []
   },
   "source": [
    "<h1 style=\"padding:8px;background-color:#DC143C;margin:0;color:white;font-family:Century Gothic;font-size:200%;text-align:center;border-radius: 15px 15px;letter-spacing:0.5px;overflow:hidden;font-weight:500\">SPLITING THE DATA INTO TRAINING SET & TEST SET</h1> <a class=\"anchor\" id=\"6\"></a>"
   ]
  },
  {
   "cell_type": "code",
   "execution_count": 19,
   "id": "8d8e7dde",
   "metadata": {
    "execution": {
     "iopub.execute_input": "2023-03-12T16:53:20.321055Z",
     "iopub.status.busy": "2023-03-12T16:53:20.319597Z",
     "iopub.status.idle": "2023-03-12T16:53:20.327330Z",
     "shell.execute_reply": "2023-03-12T16:53:20.326161Z"
    },
    "papermill": {
     "duration": 0.032609,
     "end_time": "2023-03-12T16:53:20.330110",
     "exception": false,
     "start_time": "2023-03-12T16:53:20.297501",
     "status": "completed"
    },
    "tags": []
   },
   "outputs": [],
   "source": [
    "#DECLARE TARGET VARIABLE\n",
    "X = data.drop(columns = [\"DEATH_EVENT\"])\n",
    "y = data[\"DEATH_EVENT\"]"
   ]
  },
  {
   "cell_type": "code",
   "execution_count": 20,
   "id": "8b5399bc",
   "metadata": {
    "execution": {
     "iopub.execute_input": "2023-03-12T16:53:20.373084Z",
     "iopub.status.busy": "2023-03-12T16:53:20.372204Z",
     "iopub.status.idle": "2023-03-12T16:53:20.380212Z",
     "shell.execute_reply": "2023-03-12T16:53:20.379208Z"
    },
    "papermill": {
     "duration": 0.032361,
     "end_time": "2023-03-12T16:53:20.382891",
     "exception": false,
     "start_time": "2023-03-12T16:53:20.350530",
     "status": "completed"
    },
    "tags": []
   },
   "outputs": [],
   "source": [
    "from sklearn.model_selection import train_test_split\n",
    "\n",
    "X_train, X_test, y_train, y_test = train_test_split(X, y, test_size=0.2, random_state=0)"
   ]
  },
  {
   "cell_type": "code",
   "execution_count": 21,
   "id": "5fdc1c9c",
   "metadata": {
    "execution": {
     "iopub.execute_input": "2023-03-12T16:53:20.426143Z",
     "iopub.status.busy": "2023-03-12T16:53:20.425405Z",
     "iopub.status.idle": "2023-03-12T16:53:20.441234Z",
     "shell.execute_reply": "2023-03-12T16:53:20.439150Z"
    },
    "papermill": {
     "duration": 0.041329,
     "end_time": "2023-03-12T16:53:20.444144",
     "exception": false,
     "start_time": "2023-03-12T16:53:20.402815",
     "status": "completed"
    },
    "tags": []
   },
   "outputs": [
    {
     "name": "stdout",
     "output_type": "stream",
     "text": [
      "      age  anaemia  creatinine_phosphokinase  diabetes  ejection_fraction  \\\n",
      "134  81.0        0                      4540         0                 35   \n",
      "145  50.0        0                       185         0                 30   \n",
      "63   45.0        0                       582         0                 35   \n",
      "292  52.0        0                       190         1                 38   \n",
      "284  50.0        1                        54         0                 40   \n",
      "..    ...      ...                       ...       ...                ...   \n",
      "251  55.0        0                       572         1                 35   \n",
      "192  50.0        1                       121         1                 40   \n",
      "117  85.0        1                       102         0                 60   \n",
      "47   60.0        0                       582         1                 38   \n",
      "172  70.0        1                       171         0                 60   \n",
      "\n",
      "     high_blood_pressure  platelets  serum_creatinine  serum_sodium  sex  \\\n",
      "134                    0   231000.0              1.18           137    1   \n",
      "145                    0   266000.0              0.70           141    1   \n",
      "63                     0   385000.0              1.00           145    1   \n",
      "292                    0   382000.0              1.00           140    1   \n",
      "284                    0   279000.0              0.80           141    1   \n",
      "..                   ...        ...               ...           ...  ...   \n",
      "251                    0   231000.0              0.80           143    0   \n",
      "192                    0   260000.0              0.70           130    1   \n",
      "117                    0   507000.0              3.20           138    0   \n",
      "47                     1   451000.0              0.60           138    1   \n",
      "172                    1   176000.0              1.10           145    1   \n",
      "\n",
      "     smoking  time  \n",
      "134        1   107  \n",
      "145        1   112  \n",
      "63         0    61  \n",
      "292        1   258  \n",
      "284        0   250  \n",
      "..       ...   ...  \n",
      "251        0   215  \n",
      "192        0   175  \n",
      "117        0    94  \n",
      "47         1    40  \n",
      "172        1   146  \n",
      "\n",
      "[239 rows x 12 columns]\n"
     ]
    }
   ],
   "source": [
    "print(X_train)"
   ]
  },
  {
   "cell_type": "code",
   "execution_count": 22,
   "id": "b6def994",
   "metadata": {
    "execution": {
     "iopub.execute_input": "2023-03-12T16:53:20.486306Z",
     "iopub.status.busy": "2023-03-12T16:53:20.485177Z",
     "iopub.status.idle": "2023-03-12T16:53:20.493194Z",
     "shell.execute_reply": "2023-03-12T16:53:20.491680Z"
    },
    "papermill": {
     "duration": 0.031567,
     "end_time": "2023-03-12T16:53:20.495746",
     "exception": false,
     "start_time": "2023-03-12T16:53:20.464179",
     "status": "completed"
    },
    "tags": []
   },
   "outputs": [
    {
     "name": "stdout",
     "output_type": "stream",
     "text": [
      "134    0\n",
      "145    0\n",
      "63     1\n",
      "292    0\n",
      "284    0\n",
      "      ..\n",
      "251    0\n",
      "192    0\n",
      "117    0\n",
      "47     1\n",
      "172    0\n",
      "Name: DEATH_EVENT, Length: 239, dtype: int64\n"
     ]
    }
   ],
   "source": [
    "print(y_train)"
   ]
  },
  {
   "cell_type": "code",
   "execution_count": 23,
   "id": "9a7fc4e0",
   "metadata": {
    "execution": {
     "iopub.execute_input": "2023-03-12T16:53:20.537564Z",
     "iopub.status.busy": "2023-03-12T16:53:20.536750Z",
     "iopub.status.idle": "2023-03-12T16:53:20.556079Z",
     "shell.execute_reply": "2023-03-12T16:53:20.554284Z"
    },
    "papermill": {
     "duration": 0.044827,
     "end_time": "2023-03-12T16:53:20.560188",
     "exception": false,
     "start_time": "2023-03-12T16:53:20.515361",
     "status": "completed"
    },
    "tags": []
   },
   "outputs": [
    {
     "name": "stdout",
     "output_type": "stream",
     "text": [
      "        age  anaemia  creatinine_phosphokinase  diabetes  ejection_fraction  \\\n",
      "206  40.000        1                       101         0                 40   \n",
      "188  60.667        1                       151         1                 40   \n",
      "12   45.000        1                       981         0                 30   \n",
      "219  55.000        0                       582         1                 35   \n",
      "237  70.000        0                       232         0                 30   \n",
      "136  65.000        1                        59         1                 60   \n",
      "228  65.000        0                        56         0                 25   \n",
      "205  50.000        1                       167         1                 45   \n",
      "52   60.000        0                      3964         1                 62   \n",
      "108  63.000        0                       936         0                 38   \n",
      "240  70.000        0                        81         1                 35   \n",
      "15   82.000        1                       379         0                 50   \n",
      "184  58.000        1                       145         0                 25   \n",
      "246  55.000        0                      2017         0                 25   \n",
      "22   68.000        1                       220         0                 35   \n",
      "74   69.000        0                       582         0                 20   \n",
      "269  40.000        0                       582         1                 35   \n",
      "90   70.000        0                        66         1                 45   \n",
      "227  55.000        1                      2794         0                 35   \n",
      "255  52.000        1                       191         1                 30   \n",
      "190  80.000        0                       582         1                 35   \n",
      "103  42.000        0                      5209         0                 30   \n",
      "124  60.000        0                       582         0                 40   \n",
      "129  53.000        1                       270         1                 35   \n",
      "220  73.000        0                       582         0                 20   \n",
      "116  60.000        1                        96         1                 60   \n",
      "194  45.000        0                       582         0                 20   \n",
      "285  55.000        1                       170         1                 40   \n",
      "294  62.000        0                        61         1                 38   \n",
      "249  53.000        0                       207         1                 40   \n",
      "92   42.000        0                       582         0                 60   \n",
      "66   42.000        1                       250         1                 15   \n",
      "8    65.000        0                       157         0                 65   \n",
      "122  60.000        0                        96         1                 38   \n",
      "217  54.000        1                       427         0                 70   \n",
      "150  72.000        0                       233         0                 45   \n",
      "176  69.000        0                      1419         0                 40   \n",
      "182  65.000        0                       395         1                 25   \n",
      "298  50.000        0                       196         0                 45   \n",
      "5    90.000        1                        47         0                 40   \n",
      "263  68.000        1                       157         1                 60   \n",
      "89   57.000        1                       115         0                 25   \n",
      "81   67.000        0                       582         0                 50   \n",
      "34   65.000        0                        94         1                 50   \n",
      "55   95.000        1                       371         0                 30   \n",
      "139  50.000        0                      1548         0                 30   \n",
      "234  53.000        1                       582         0                 45   \n",
      "64   45.000        0                       582         0                 80   \n",
      "7    60.000        1                       315         1                 60   \n",
      "45   50.000        0                       582         1                 38   \n",
      "73   65.000        0                       224         1                 50   \n",
      "291  60.000        0                       320         0                 35   \n",
      "173  50.000        1                       115         0                 20   \n",
      "106  55.000        0                       748         0                 45   \n",
      "59   72.000        0                       364         1                 20   \n",
      "230  60.000        0                       166         0                 30   \n",
      "168  65.000        0                       582         1                 40   \n",
      "26   95.000        1                       112         0                 40   \n",
      "283  65.000        0                      1688         0                 38   \n",
      "153  50.000        0                      1846         1                 35   \n",
      "\n",
      "     high_blood_pressure  platelets  serum_creatinine  serum_sodium  sex  \\\n",
      "206                    0  226000.00              0.80           141    0   \n",
      "188                    1  201000.00              1.00           136    0   \n",
      "12                     0  136000.00              1.10           137    1   \n",
      "219                    1  371000.00              0.70           140    0   \n",
      "237                    0  173000.00              1.20           132    1   \n",
      "136                    0  172000.00              0.90           137    0   \n",
      "228                    0  237000.00              5.00           130    0   \n",
      "205                    0  362000.00              1.00           136    0   \n",
      "52                     0  263358.03              6.80           146    0   \n",
      "108                    0  304000.00              1.10           133    1   \n",
      "240                    1  533000.00              1.30           139    0   \n",
      "15                     0   47000.00              1.30           136    1   \n",
      "184                    0  219000.00              1.20           137    1   \n",
      "246                    0  314000.00              1.10           138    1   \n",
      "22                     1  289000.00              0.90           140    1   \n",
      "74                     0  266000.00              1.20           134    1   \n",
      "269                    0  222000.00              1.00           132    1   \n",
      "90                     0  249000.00              0.80           136    1   \n",
      "227                    1  141000.00              1.00           140    1   \n",
      "255                    1  334000.00              1.00           142    1   \n",
      "190                    0  350000.00              2.10           134    1   \n",
      "103                    0  226000.00              1.00           140    1   \n",
      "124                    0  217000.00              3.70           134    1   \n",
      "129                    0  227000.00              3.40           145    1   \n",
      "220                    0  263358.03              1.83           134    1   \n",
      "116                    1  271000.00              0.70           136    0   \n",
      "194                    1  126000.00              1.60           135    1   \n",
      "285                    0  336000.00              1.20           135    1   \n",
      "294                    1  155000.00              1.10           143    1   \n",
      "249                    0  223000.00              1.20           130    0   \n",
      "92                     0  263358.03              1.18           137    0   \n",
      "66                     0  213000.00              1.30           136    0   \n",
      "8                      0  263358.03              1.50           138    0   \n",
      "122                    0  228000.00              0.75           140    0   \n",
      "217                    1  151000.00              9.00           137    0   \n",
      "150                    1  235000.00              2.50           135    0   \n",
      "176                    0  105000.00              1.00           135    1   \n",
      "182                    0  265000.00              1.20           136    1   \n",
      "298                    0  395000.00              1.60           136    1   \n",
      "5                      1  204000.00              2.10           132    1   \n",
      "263                    0  208000.00              1.00           140    0   \n",
      "89                     1  181000.00              1.10           144    1   \n",
      "81                     0  263358.03              1.18           137    1   \n",
      "34                     1  188000.00              1.00           140    1   \n",
      "55                     0  461000.00              2.00           132    1   \n",
      "139                    1  211000.00              0.80           138    1   \n",
      "234                    0  305000.00              1.10           137    1   \n",
      "64                     0  263358.03              1.18           137    0   \n",
      "7                      0  454000.00              1.10           131    1   \n",
      "45                     0  310000.00              1.90           135    1   \n",
      "73                     0  149000.00              1.30           137    1   \n",
      "291                    0  133000.00              1.40           139    1   \n",
      "173                    0  189000.00              0.80           139    1   \n",
      "106                    0  263000.00              1.30           137    1   \n",
      "59                     1  254000.00              1.30           136    1   \n",
      "230                    0   62000.00              1.70           127    0   \n",
      "168                    0  270000.00              1.00           138    0   \n",
      "26                     1  196000.00              1.00           138    0   \n",
      "283                    0  263358.03              1.10           138    1   \n",
      "153                    0  263358.03              1.18           137    1   \n",
      "\n",
      "     smoking  time  \n",
      "206        0   187  \n",
      "188        0   172  \n",
      "12         0    11  \n",
      "219        0   197  \n",
      "237        0   210  \n",
      "136        0   107  \n",
      "228        0   207  \n",
      "205        0   187  \n",
      "52         0    43  \n",
      "108        1    88  \n",
      "240        0   212  \n",
      "15         0    13  \n",
      "184        1   170  \n",
      "246        0   214  \n",
      "22         1    20  \n",
      "74         1    73  \n",
      "269        0   244  \n",
      "90         1    80  \n",
      "227        0   206  \n",
      "255        1   216  \n",
      "190        0   174  \n",
      "103        1    87  \n",
      "124        0    96  \n",
      "129        0   105  \n",
      "220        0   198  \n",
      "116        0    94  \n",
      "194        0   180  \n",
      "285        0   250  \n",
      "294        1   270  \n",
      "249        0   214  \n",
      "92         0    82  \n",
      "66         0    65  \n",
      "8          0    10  \n",
      "122        0    95  \n",
      "217        0   196  \n",
      "150        0   115  \n",
      "176        1   147  \n",
      "182        1   154  \n",
      "298        1   285  \n",
      "5          1     8  \n",
      "263        0   237  \n",
      "89         0    79  \n",
      "81         1    76  \n",
      "34         0    29  \n",
      "55         0    50  \n",
      "139        0   108  \n",
      "234        1   209  \n",
      "64         0    63  \n",
      "7          1    10  \n",
      "45         1    35  \n",
      "73         1    72  \n",
      "291        0   258  \n",
      "173        0   146  \n",
      "106        0    88  \n",
      "59         1    59  \n",
      "230        0   207  \n",
      "168        0   140  \n",
      "26         0    24  \n",
      "283        1   250  \n",
      "153        1   119  \n"
     ]
    }
   ],
   "source": [
    "print(X_test)"
   ]
  },
  {
   "cell_type": "code",
   "execution_count": 24,
   "id": "15e706f1",
   "metadata": {
    "execution": {
     "iopub.execute_input": "2023-03-12T16:53:20.604417Z",
     "iopub.status.busy": "2023-03-12T16:53:20.603383Z",
     "iopub.status.idle": "2023-03-12T16:53:20.611506Z",
     "shell.execute_reply": "2023-03-12T16:53:20.609284Z"
    },
    "papermill": {
     "duration": 0.033442,
     "end_time": "2023-03-12T16:53:20.614713",
     "exception": false,
     "start_time": "2023-03-12T16:53:20.581271",
     "status": "completed"
    },
    "tags": []
   },
   "outputs": [
    {
     "name": "stdout",
     "output_type": "stream",
     "text": [
      "206    0\n",
      "188    0\n",
      "12     1\n",
      "219    0\n",
      "237    0\n",
      "136    0\n",
      "228    0\n",
      "205    0\n",
      "52     1\n",
      "108    0\n",
      "240    0\n",
      "15     1\n",
      "184    1\n",
      "246    1\n",
      "22     1\n",
      "74     1\n",
      "269    0\n",
      "90     0\n",
      "227    0\n",
      "255    0\n",
      "190    0\n",
      "103    0\n",
      "124    1\n",
      "129    0\n",
      "220    1\n",
      "116    0\n",
      "194    1\n",
      "285    0\n",
      "294    0\n",
      "249    0\n",
      "92     0\n",
      "66     1\n",
      "8      1\n",
      "122    0\n",
      "217    1\n",
      "150    1\n",
      "176    0\n",
      "182    1\n",
      "298    0\n",
      "5      1\n",
      "263    0\n",
      "89     0\n",
      "81     0\n",
      "34     1\n",
      "55     1\n",
      "139    0\n",
      "234    0\n",
      "64     0\n",
      "7      1\n",
      "45     1\n",
      "73     0\n",
      "291    0\n",
      "173    0\n",
      "106    0\n",
      "59     1\n",
      "230    1\n",
      "168    0\n",
      "26     1\n",
      "283    0\n",
      "153    0\n",
      "Name: DEATH_EVENT, dtype: int64\n"
     ]
    }
   ],
   "source": [
    "print(y_test)"
   ]
  },
  {
   "cell_type": "markdown",
   "id": "571f75cf",
   "metadata": {
    "papermill": {
     "duration": 0.020107,
     "end_time": "2023-03-12T16:53:20.655318",
     "exception": false,
     "start_time": "2023-03-12T16:53:20.635211",
     "status": "completed"
    },
    "tags": []
   },
   "source": [
    "<h1 style=\"padding:8px;background-color:#DC143C;margin:0;color:white;font-family:Century Gothic;font-size:200%;text-align:center;border-radius: 15px 15px;letter-spacing:0.5px;overflow:hidden;font-weight:500\">FEATURE SELECTION</h1> <a class=\"anchor\" id=\"7\"></a>"
   ]
  },
  {
   "cell_type": "markdown",
   "id": "a29107a2",
   "metadata": {
    "papermill": {
     "duration": 0.020002,
     "end_time": "2023-03-12T16:53:20.695441",
     "exception": false,
     "start_time": "2023-03-12T16:53:20.675439",
     "status": "completed"
    },
    "tags": []
   },
   "source": [
    "### **Key benefits of feature selection**\n",
    "**1. Decreases over-  fitting** \n",
    "\n",
    "**2. Improves Accuracy**\n",
    "\n",
    "**3. Reduces Training Time**  "
   ]
  },
  {
   "cell_type": "code",
   "execution_count": 25,
   "id": "caff99b6",
   "metadata": {
    "execution": {
     "iopub.execute_input": "2023-03-12T16:53:20.737523Z",
     "iopub.status.busy": "2023-03-12T16:53:20.737077Z",
     "iopub.status.idle": "2023-03-12T16:53:20.763234Z",
     "shell.execute_reply": "2023-03-12T16:53:20.761393Z"
    },
    "papermill": {
     "duration": 0.051434,
     "end_time": "2023-03-12T16:53:20.767006",
     "exception": false,
     "start_time": "2023-03-12T16:53:20.715572",
     "status": "completed"
    },
    "tags": []
   },
   "outputs": [
    {
     "name": "stdout",
     "output_type": "stream",
     "text": [
      "diabetes : 0.001\n",
      "sex : 0.006\n",
      "smoking : 0.047\n",
      "platelets : 0.719\n",
      "creatinine_phosphokinase : 1.173\n",
      "anaemia : 1.31\n",
      "high_blood_pressure : 1.882\n",
      "serum_sodium : 11.765\n",
      "age : 20.436\n",
      "ejection_fraction : 23.094\n",
      "serum_creatinine : 28.158\n",
      "time : 114.181\n"
     ]
    }
   ],
   "source": [
    "from sklearn.feature_selection import SelectKBest\n",
    "best_features = SelectKBest(k=10)\n",
    "features_ranking = best_features.fit(data.drop(['DEATH_EVENT'], axis=1), data['DEATH_EVENT'])\n",
    "ranking_dictionary = {}\n",
    "for i in range(len(features_ranking.scores_)):\n",
    "    ranking_dictionary[data.columns[i]] = round(features_ranking.scores_[i], 3)\n",
    "\n",
    "asc_sort = sorted(ranking_dictionary.items(), key = lambda kv:(kv[1], kv[0]))\n",
    "\n",
    "for i, j in asc_sort:\n",
    "    print(i, ':', j)"
   ]
  },
  {
   "cell_type": "markdown",
   "id": "80ed5ec1",
   "metadata": {
    "papermill": {
     "duration": 0.020278,
     "end_time": "2023-03-12T16:53:20.807850",
     "exception": false,
     "start_time": "2023-03-12T16:53:20.787572",
     "status": "completed"
    },
    "tags": []
   },
   "source": [
    "* **In Feature Selection platelets, time, creatinine_phosphokinase, ejection_fraction are more considerable.**"
   ]
  },
  {
   "cell_type": "markdown",
   "id": "6f692356",
   "metadata": {
    "papermill": {
     "duration": 0.019945,
     "end_time": "2023-03-12T16:53:20.848787",
     "exception": false,
     "start_time": "2023-03-12T16:53:20.828842",
     "status": "completed"
    },
    "tags": []
   },
   "source": [
    "<h1 style=\"padding:8px;background-color:#DC143C;margin:0;color:white;font-family:Century Gothic;font-size:200%;text-align:center;border-radius: 15px 15px;letter-spacing:0.5px;overflow:hidden;font-weight:500\">APPLY MACHINE-LEARNING MODEL</h1> <a class=\"anchor\" id=\"8\"></a>"
   ]
  },
  {
   "cell_type": "code",
   "execution_count": 26,
   "id": "70e68b06",
   "metadata": {
    "execution": {
     "iopub.execute_input": "2023-03-12T16:53:20.891800Z",
     "iopub.status.busy": "2023-03-12T16:53:20.890956Z",
     "iopub.status.idle": "2023-03-12T16:53:20.896738Z",
     "shell.execute_reply": "2023-03-12T16:53:20.895843Z"
    },
    "papermill": {
     "duration": 0.030322,
     "end_time": "2023-03-12T16:53:20.899311",
     "exception": false,
     "start_time": "2023-03-12T16:53:20.868989",
     "status": "completed"
    },
    "tags": []
   },
   "outputs": [],
   "source": [
    "from sklearn.metrics import confusion_matrix, accuracy_score,classification_report,recall_score,f1_score,precision_score\n"
   ]
  },
  {
   "cell_type": "markdown",
   "id": "4c97ff9f",
   "metadata": {
    "papermill": {
     "duration": 0.020251,
     "end_time": "2023-03-12T16:53:20.939617",
     "exception": false,
     "start_time": "2023-03-12T16:53:20.919366",
     "status": "completed"
    },
    "tags": []
   },
   "source": [
    "### Logistic Regression Classifier\n",
    "Logistic regression is one of the most popular Machine Learning algorithms, which comes under the Supervised Learning technique. It is used for predicting the categorical dependent variable using a given set of independent variables.\n",
    "In Logistic regression, instead of fitting a regression line, we fit an \"S\" shaped logistic function, which predicts two maximum values (0 or 1)\n",
    "\n",
    "<img src=\"https://static.javatpoint.com/tutorial/machine-learning/images/logistic-regression-in-machine-learning.png\" width=50%>"
   ]
  },
  {
   "cell_type": "code",
   "execution_count": 27,
   "id": "34c9a4eb",
   "metadata": {
    "execution": {
     "iopub.execute_input": "2023-03-12T16:53:20.982559Z",
     "iopub.status.busy": "2023-03-12T16:53:20.981722Z",
     "iopub.status.idle": "2023-03-12T16:53:21.019475Z",
     "shell.execute_reply": "2023-03-12T16:53:21.017567Z"
    },
    "papermill": {
     "duration": 0.062597,
     "end_time": "2023-03-12T16:53:21.022334",
     "exception": false,
     "start_time": "2023-03-12T16:53:20.959737",
     "status": "completed"
    },
    "tags": []
   },
   "outputs": [
    {
     "name": "stdout",
     "output_type": "stream",
     "text": [
      "LogisticRegression Accuracy Score: 73.33333333333333 %\n",
      "Recall Score: 39.130434782608695 %\n",
      "Precision Score: 81.81818181818183 %\n",
      "F1 Score: 52.94117647058824 %\n"
     ]
    }
   ],
   "source": [
    "lr = LogisticRegression()\n",
    "lr.fit(X_train, y_train)\n",
    "y_pred = lr.predict(X_test)\n",
    "log = accuracy_score(y_test,y_pred)*100\n",
    "print(\"LogisticRegression Accuracy Score:\",accuracy_score(y_test,y_pred)*100,\"%\")\n",
    "print(\"Recall Score:\",recall_score(y_test,y_pred)*100,\"%\")\n",
    "print(\"Precision Score:\",precision_score(y_test,y_pred)*100,\"%\")\n",
    "print(\"F1 Score:\",f1_score(y_test,y_pred)*100,\"%\")\n"
   ]
  },
  {
   "cell_type": "markdown",
   "id": "68eb034e",
   "metadata": {
    "papermill": {
     "duration": 0.019795,
     "end_time": "2023-03-12T16:53:21.062138",
     "exception": false,
     "start_time": "2023-03-12T16:53:21.042343",
     "status": "completed"
    },
    "tags": []
   },
   "source": [
    "### Decision Tree Classifier\n",
    "\n",
    "Decision Tree algorithm is supervised learning algorithm. It can be used for solving regression and classification problems too. The goal of using a Decision Tree is to create a training model that can use to predict the class or value of the target variable by learning simple decision rules inferred from prior data(training data).\n",
    "It works like a flow chart, separating data points into two similar categories at a time from the “tree trunk” to “branches,” to “leaves,” where the categories become more finitely similar.\n",
    "\n",
    "<img src=\"https://dpbnri2zg3lc2.cloudfront.net/en/wp-content/uploads/old-blog-uploads/decision-tree-example-2-1.jpg\" width=50%>\n"
   ]
  },
  {
   "cell_type": "code",
   "execution_count": 28,
   "id": "410e6664",
   "metadata": {
    "execution": {
     "iopub.execute_input": "2023-03-12T16:53:21.104802Z",
     "iopub.status.busy": "2023-03-12T16:53:21.103905Z",
     "iopub.status.idle": "2023-03-12T16:53:21.122475Z",
     "shell.execute_reply": "2023-03-12T16:53:21.120632Z"
    },
    "papermill": {
     "duration": 0.043126,
     "end_time": "2023-03-12T16:53:21.125273",
     "exception": false,
     "start_time": "2023-03-12T16:53:21.082147",
     "status": "completed"
    },
    "tags": []
   },
   "outputs": [
    {
     "name": "stdout",
     "output_type": "stream",
     "text": [
      "DecisionTreeClassifier Accuracy Score: 75.0 %\n",
      "Recall Score: 56.52173913043478 %\n",
      "Precision Score: 72.22222222222221 %\n",
      "F1 Score: 63.41463414634146 %\n"
     ]
    }
   ],
   "source": [
    "dt= DecisionTreeClassifier()\n",
    "dt.fit(X_train, y_train)\n",
    "y_pred = dt.predict(X_test)\n",
    "log = accuracy_score(y_test,y_pred)*100\n",
    "print(\"DecisionTreeClassifier Accuracy Score:\",accuracy_score(y_test,y_pred)*100,\"%\")\n",
    "print(\"Recall Score:\",recall_score(y_test,y_pred)*100,\"%\")\n",
    "print(\"Precision Score:\",precision_score(y_test,y_pred)*100,\"%\")\n",
    "print(\"F1 Score:\",f1_score(y_test,y_pred)*100,\"%\")\n",
    "\n"
   ]
  },
  {
   "cell_type": "markdown",
   "id": "06867747",
   "metadata": {
    "papermill": {
     "duration": 0.020151,
     "end_time": "2023-03-12T16:53:21.166062",
     "exception": false,
     "start_time": "2023-03-12T16:53:21.145911",
     "status": "completed"
    },
    "tags": []
   },
   "source": [
    "### Random Forest Classifier\n",
    "Random Forest is a powerful and versatile supervised machine learning algorithm that grows multiple decision trees which are merged together for a more accurate prediction.\n",
    "Random forest, like its name implies, consists of a large number of individual decision trees that operate as an ensemble. Each individual tree in the random forest spits out a class prediction and the class with the most votes becomes our model’s prediction\n",
    "\n",
    "<img src=\"https://miro.medium.com/max/789/1*VHDtVaDPNepRglIAv72BFg.jpeg\" width=50%>"
   ]
  },
  {
   "cell_type": "code",
   "execution_count": 29,
   "id": "81334e08",
   "metadata": {
    "execution": {
     "iopub.execute_input": "2023-03-12T16:53:21.209204Z",
     "iopub.status.busy": "2023-03-12T16:53:21.208707Z",
     "iopub.status.idle": "2023-03-12T16:53:21.396335Z",
     "shell.execute_reply": "2023-03-12T16:53:21.394569Z"
    },
    "papermill": {
     "duration": 0.212765,
     "end_time": "2023-03-12T16:53:21.399333",
     "exception": false,
     "start_time": "2023-03-12T16:53:21.186568",
     "status": "completed"
    },
    "tags": []
   },
   "outputs": [
    {
     "name": "stdout",
     "output_type": "stream",
     "text": [
      "RandomForest Accuracy Score: 83.33333333333334 %\n",
      "Recall Score: 65.21739130434783 %\n",
      "Precision Score: 88.23529411764706 %\n",
      "F1 Score: 75.0 %\n"
     ]
    }
   ],
   "source": [
    "rfc= RandomForestClassifier(random_state=777)\n",
    "rfc = rfc.fit(X_train,y_train)\n",
    "y_pred = rfc.predict(X_test)\n",
    "log = accuracy_score(y_test,y_pred)*100\n",
    "print(\"RandomForest Accuracy Score:\",accuracy_score(y_test,y_pred)*100,\"%\")\n",
    "print(\"Recall Score:\",recall_score(y_test,y_pred)*100,\"%\")\n",
    "print(\"Precision Score:\",precision_score(y_test,y_pred)*100,\"%\")\n",
    "print(\"F1 Score:\",f1_score(y_test,y_pred)*100,\"%\")\n"
   ]
  },
  {
   "cell_type": "markdown",
   "id": "d20260d5",
   "metadata": {
    "papermill": {
     "duration": 0.020996,
     "end_time": "2023-03-12T16:53:21.441215",
     "exception": false,
     "start_time": "2023-03-12T16:53:21.420219",
     "status": "completed"
    },
    "tags": []
   },
   "source": [
    "<h1 style=\"padding:8px;background-color:#DC143C;margin:0;color:white;font-family:Century Gothic;font-size:200%;text-align:center;border-radius: 15px 15px;letter-spacing:0.5px;overflow:hidden;font-weight:500\">CONCLUDING REMARKS</h1>"
   ]
  },
  {
   "cell_type": "markdown",
   "id": "98ed8334",
   "metadata": {
    "papermill": {
     "duration": 0.020164,
     "end_time": "2023-03-12T16:53:21.482053",
     "exception": false,
     "start_time": "2023-03-12T16:53:21.461889",
     "status": "completed"
    },
    "tags": []
   },
   "source": [
    "**1. The females have the percentage of 31.9% of having heart attack while men have the chance of 32.38% of having it. same for survival rate this can be because male population is higher.**\n",
    "\n",
    "**2. Using this dataset of 299 heart failure patients, several machine learning algorithms were tested for their ability to predict mortality. out of given Machine-Learning models, RANDOM FOREST performed BEST with an overall accuracy of around 83%.**"
   ]
  },
  {
   "cell_type": "markdown",
   "id": "c9cd4cd5",
   "metadata": {
    "papermill": {
     "duration": 0.020791,
     "end_time": "2023-03-12T16:53:21.523904",
     "exception": false,
     "start_time": "2023-03-12T16:53:21.503113",
     "status": "completed"
    },
    "tags": []
   },
   "source": [
    "<h1 style=\"padding:8px;background-color:#DC143C;margin:0;color:white;font-family:Century Gothic;font-size:200%;text-align:center;border-radius: 15px 15px;letter-spacing:0.5px;overflow:hidden;font-weight:500\">REFERENCE</h1>"
   ]
  },
  {
   "cell_type": "markdown",
   "id": "b6048e6f",
   "metadata": {
    "papermill": {
     "duration": 0.021098,
     "end_time": "2023-03-12T16:53:21.565551",
     "exception": false,
     "start_time": "2023-03-12T16:53:21.544453",
     "status": "completed"
    },
    "tags": []
   },
   "source": [
    "[https://www.kaggle.com/code/durgancegaur/a-guide-to-any-classification-problem](http://)"
   ]
  }
 ],
 "metadata": {
  "kernelspec": {
   "display_name": "Python 3",
   "language": "python",
   "name": "python3"
  },
  "language_info": {
   "codemirror_mode": {
    "name": "ipython",
    "version": 3
   },
   "file_extension": ".py",
   "mimetype": "text/x-python",
   "name": "python",
   "nbconvert_exporter": "python",
   "pygments_lexer": "ipython3",
   "version": "3.7.12"
  },
  "papermill": {
   "default_parameters": {},
   "duration": 23.994973,
   "end_time": "2023-03-12T16:53:22.610936",
   "environment_variables": {},
   "exception": null,
   "input_path": "__notebook__.ipynb",
   "output_path": "__notebook__.ipynb",
   "parameters": {},
   "start_time": "2023-03-12T16:52:58.615963",
   "version": "2.3.4"
  }
 },
 "nbformat": 4,
 "nbformat_minor": 5
}
